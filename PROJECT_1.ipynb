{
 "cells": [
  {
   "cell_type": "code",
   "execution_count": 7,
   "id": "56c7d33c-02a6-4120-9368-218662e2987c",
   "metadata": {},
   "outputs": [
    {
     "name": "stdin",
     "output_type": "stream",
     "text": [
      "Enter text to replace spaces, commas, and dots:  'Python Exercises, PHP exercises.'\n"
     ]
    },
    {
     "name": "stdout",
     "output_type": "stream",
     "text": [
      "Replaced text: 'Python:Exercises::PHP:exercises:'\n"
     ]
    }
   ],
   "source": [
    "# Write a Python program to replace all occurrences of a space, comma, or dot with a colon\n",
    "def replace_characters(text):\n",
    "    # Replace spaces, commas, and dots with colons\n",
    "    text = text.replace(' ', ':')                 # use string\n",
    "    text = text.replace(',', ':')\n",
    "    text = text.replace('.', ':')\n",
    "    return text\n",
    "\n",
    "# Example\n",
    "if __name__ == \"__main__\":\n",
    "    input_text = input(\"Enter text to replace spaces, commas, and dots: \")\n",
    "    replaced_text = replace_characters(input_text)\n",
    "    print(\"Replaced text:\", replaced_text)"
   ]
  },
  {
   "cell_type": "code",
   "execution_count": 89,
   "id": "dd4eafff-f745-4677-9094-7eb53c98250f",
   "metadata": {},
   "outputs": [
    {
     "name": "stdout",
     "output_type": "stream",
     "text": [
      "Original DataFrame:\n",
      "                  SUMMARY\n",
      "0           hello, world!\n",
      "1              XXXXX test\n",
      "2  123four, five:; six...\n",
      "\n",
      "Cleaned DataFrame:\n",
      "         SUMMARY\n",
      "0    hello world\n",
      "1     XXXXX test\n",
      "2  four five six\n"
     ]
    },
    {
     "name": "stderr",
     "output_type": "stream",
     "text": [
      "C:\\Users\\DELL\\AppData\\Local\\Temp\\ipykernel_19404\\735000918.py:21: FutureWarning: DataFrame.applymap has been deprecated. Use DataFrame.map instead.\n",
      "  df_cleaned = df.applymap(clean_text)\n"
     ]
    }
   ],
   "source": [
    "#-Create a dataframe using the dictionary below and remove everything (commas (,), !, XXXX, ;, etc.) from the columns except words.\n",
    "\n",
    "import pandas as pd\n",
    "import numpy as np\n",
    "import re\n",
    "\n",
    "# Sample dictionary\n",
    "data = {\n",
    "   'SUMMARY':[ 'hello, world!', 'XXXXX test', '123four, five:; six...']\n",
    "}\n",
    "\n",
    "# Create DataFrame from dictionary\n",
    "df = pd.DataFrame(data)\n",
    "\n",
    "# Function to clean the data\n",
    "def clean_text(text):\n",
    "    # Remove everything except words and spaces\n",
    "    return re.sub(r'[^a-zA-Z\\s]', '', text)\n",
    "\n",
    "# Apply cleaning function to all elements in the DataFrame\n",
    "df_cleaned = df.applymap(clean_text)\n",
    "\n",
    "print(\"Original DataFrame:\")\n",
    "print(df)\n",
    "print(\"\\nCleaned DataFrame:\")\n",
    "print(df_cleaned)"
   ]
  },
  {
   "cell_type": "code",
   "execution_count": 21,
   "id": "2210db11-c769-44a3-a9ce-d000d83dd346",
   "metadata": {},
   "outputs": [
    {
     "name": "stdout",
     "output_type": "stream",
     "text": [
      "Words with at least 4 characters: ['name', 'abhishek', 'sampat', 'wale', 'engineer']\n"
     ]
    }
   ],
   "source": [
    "#Create a function in python to find all words that are at least 4 characters long in a string. The use of the re.compile() method is mandatory.\n",
    "import re\n",
    "\n",
    "def find_long_words(input_string):\n",
    "    # Compile a regular expression pattern to match words with at least 4 characters\n",
    "    pattern = re.compile(r'\\b\\w{4,}\\b')\n",
    "    \n",
    "    # Find all matches in the input string\n",
    "    matches = pattern.findall(input_string)\n",
    "    \n",
    "    return matches\n",
    "\n",
    "# Example\n",
    "if __name__ == \"__main__\":\n",
    "    test_string = \"my name is abhishek sampat wale,i am a engineer\"\n",
    "    result = find_long_words(test_string)\n",
    "    print(\"Words with at least 4 characters:\", result)\n"
   ]
  },
  {
   "cell_type": "code",
   "execution_count": 23,
   "id": "7a417d5a-54fd-43cb-967a-9736529c893d",
   "metadata": {},
   "outputs": [
    {
     "name": "stdout",
     "output_type": "stream",
     "text": [
      "['name', 'wale', 'love', 'arun', 'sonal', 'raj', 'best']\n"
     ]
    }
   ],
   "source": [
    "# Create a function in python to find all three, four, and five character words in a string. The use of the re.compile() method is mandatory.\n",
    "import re\n",
    "\n",
    "def find_words(text):\n",
    "    # Compile a regex pattern to match words with exactly 3, 4, or 5 characters\n",
    "    pattern = re.compile(r'\\b\\w{3,5}\\b')\n",
    "    \n",
    "    # Find all matches in the given text\n",
    "    matches = pattern.findall(text)\n",
    "    \n",
    "    # Filter matches to ensure they are only 3, 4, or 5 characters long\n",
    "    filtered_matches = [word for word in matches if 3 <= len(word) <= 5]\n",
    "    \n",
    "    return filtered_matches\n",
    "\n",
    "# Example\n",
    "text = \"my name is abhishek sampat wale,i am a engineer, i love coding & technology.arun,sonal,raj my best friends\"\n",
    "result = find_words(text)\n",
    "print(result)\n",
    "\n"
   ]
  },
  {
   "cell_type": "code",
   "execution_count": 36,
   "id": "bec384a9-7947-4beb-a91c-30c37b46f964",
   "metadata": {},
   "outputs": [
    {
     "name": "stdout",
     "output_type": "stream",
     "text": [
      "['example.com, hr@fliprobo.com, github.com, Hello Data Science World, DataScientist']\n"
     ]
    }
   ],
   "source": [
    "#Create a function in Python to remove the parenthesis in a list of strings. The use of the re.compile() method is mandatory.\n",
    "import re\n",
    "\n",
    "def remove_parentheses(strings):\n",
    "    # Compile a regex pattern to match parentheses\n",
    "    pattern = re.compile(r'[()]')\n",
    "    \n",
    "    # Apply the pattern to remove parentheses from each string\n",
    "    cleaned_strings = [pattern.sub('', s) for s in strings]\n",
    "    \n",
    "    return cleaned_strings\n",
    "\n",
    "# Example\n",
    "strings =[\"example(.com), hr@fliprobo(.com), github(.com), Hello (Data Science World), Data(Scientist)\"]\n",
    "result = remove_parentheses(strings)\n",
    "print(result)\n"
   ]
  },
  {
   "cell_type": "code",
   "execution_count": 42,
   "id": "f4d58983-ce75-4a5d-868c-ca375bf7b71f",
   "metadata": {},
   "outputs": [
    {
     "name": "stdout",
     "output_type": "stream",
     "text": [
      "example (.com), hr@fliprobo (.com), github (.com), Hello (Data Science World), Data (Scientist)\n"
     ]
    }
   ],
   "source": [
    "# Write a python program to remove the parenthesis area from the text stored in the text file using Regular Expression.\n",
    "import re\n",
    "# File paths\n",
    "input_file = 'sample.txt'\n",
    "output_file = 'processed_sample.txt'\n",
    "\n",
    "# Function to remove text within parentheses\n",
    "def remove_parentheses_content(text):\n",
    "    # Regular expression pattern to match text inside parentheses including the parentheses\n",
    "    pattern = r'\\(.*?\\)'\n",
    "    # Substitute the matched text with an empty string\n",
    "    return re.sub(pattern, '', text)\n",
    "\n",
    "def process_file(input_file, output_file):\n",
    "    try:\n",
    "        # Read the content from the input file\n",
    "        with open(input_file, 'r') as file:\n",
    "            content = file.read()\n",
    "        \n",
    "        # Remove text within parentheses\n",
    "        processed_content = remove_parentheses_content(content)\n",
    "        \n",
    "        # Write the processed content to the output file\n",
    "        with open(output_file, 'w') as file:\n",
    "            file.write(processed_content)\n",
    "        \n",
    "        print(f'Processed content has been written to {output_file}')\n",
    "    \n",
    "    except FileNotFoundError:\n",
    "        print(f'example (.com), hr@fliprobo (.com), github (.com), Hello (Data Science World), Data (Scientist)')\n",
    "    except Exception as e:\n",
    "        print(f'An error occurred: {e}')\n",
    "\n",
    "\n",
    "process_file(input_file, output_file)\n",
    "\n"
   ]
  },
  {
   "cell_type": "code",
   "execution_count": 46,
   "id": "444a5f27-a9b9-43c3-919f-4f26a7f3db77",
   "metadata": {},
   "outputs": [
    {
     "name": "stdout",
     "output_type": "stream",
     "text": [
      "['Importance', 'Of', 'Regular', 'Expressions', 'In', 'Python.']\n"
     ]
    }
   ],
   "source": [
    "# Write a regular expression in Python to split a string into uppercase letters.\n",
    "import re\n",
    "def split_by_uppercase_start(text):\n",
    "    # Regular expression pattern to split by uppercase letters at the start of words\n",
    "    pattern = r'(?<!^)(?<!\\s)(?=[A-Z])'\n",
    "    # Split the text using the pattern\n",
    "    parts = re.split(pattern, text)\n",
    "    return parts\n",
    "\n",
    "# Example\n",
    "input_string = \"ImportanceOfRegularExpressionsInPython.\"\n",
    "result = split_by_uppercase_start(input_string)\n",
    "print(result)\n",
    "\n"
   ]
  },
  {
   "cell_type": "code",
   "execution_count": 47,
   "id": "cdee4eba-6111-418f-9b0f-7c44eba1014e",
   "metadata": {},
   "outputs": [
    {
     "name": "stdout",
     "output_type": "stream",
     "text": [
      "RegularExpression 1IsAn 2ImportantTopic 3InPython\n"
     ]
    }
   ],
   "source": [
    "# Create a function in python to insert spaces between words starting with numbers.\n",
    "import re\n",
    "def insert_spaces_before_numbers(text):\n",
    "    # Regular expression pattern to match words starting with numbers\n",
    "    pattern = r'(?<=\\w)(?=\\d)'\n",
    "    # Insert a space before words that start with numbers\n",
    "    result = re.sub(pattern, ' ', text)\n",
    "    return result\n",
    "\n",
    "# Example\n",
    "input_string = \"RegularExpression1IsAn2ImportantTopic3InPython\"\n",
    "result = insert_spaces_before_numbers(input_string)\n",
    "print(result)\n"
   ]
  },
  {
   "cell_type": "code",
   "execution_count": 49,
   "id": "289c5017-a4d1-46f6-b417-43879c0e9bc8",
   "metadata": {},
   "outputs": [
    {
     "name": "stdout",
     "output_type": "stream",
     "text": [
      "Regular Expression 1Is An 2Important Topic 3In Python.\n"
     ]
    }
   ],
   "source": [
    "# Create a function in python to insert spaces between words starting with capital letters or with numbers.\n",
    "import re\n",
    "def insert_spaces_before_capital_or_number(text):\n",
    "    # Regular expression pattern to match positions before capital letters or numbers\n",
    "    pattern = r'(?<=[a-z])(?=[A-Z\\d])'\n",
    "    # Insert a space before words that start with capital letters or numbers\n",
    "    result = re.sub(pattern, ' ', text)\n",
    "    return result\n",
    "\n",
    "# Example\n",
    "input_string = \"RegularExpression1IsAn2ImportantTopic3InPython.\"\n",
    "result = insert_spaces_before_capital_or_number(input_string)\n",
    "print(result)\n"
   ]
  },
  {
   "cell_type": "code",
   "execution_count": 53,
   "id": "bbab5119-db03-454d-bea1-fba06e30baf7",
   "metadata": {},
   "outputs": [
    {
     "name": "stdout",
     "output_type": "stream",
     "text": [
      "Initial DataFrame:\n",
      "       Country          Region  Happiness Rank  Happiness Score  \\\n",
      "0  Switzerland  Western Europe               1            7.587   \n",
      "1      Iceland  Western Europe               2            7.561   \n",
      "2      Denmark  Western Europe               3            7.527   \n",
      "3       Norway  Western Europe               4            7.522   \n",
      "4       Canada   North America               5            7.427   \n",
      "\n",
      "   Standard Error  Economy (GDP per Capita)   Family  \\\n",
      "0         0.03411                   1.39651  1.34951   \n",
      "1         0.04884                   1.30232  1.40223   \n",
      "2         0.03328                   1.32548  1.36058   \n",
      "3         0.03880                   1.45900  1.33095   \n",
      "4         0.03553                   1.32629  1.32261   \n",
      "\n",
      "   Health (Life Expectancy)  Freedom  Trust (Government Corruption)  \\\n",
      "0                   0.94143  0.66557                        0.41978   \n",
      "1                   0.94784  0.62877                        0.14145   \n",
      "2                   0.87464  0.64938                        0.48357   \n",
      "3                   0.88521  0.66973                        0.36503   \n",
      "4                   0.90563  0.63297                        0.32957   \n",
      "\n",
      "   Generosity  Dystopia Residual  \n",
      "0     0.29678            2.51738  \n",
      "1     0.43630            2.70201  \n",
      "2     0.34139            2.49204  \n",
      "3     0.34699            2.46531  \n",
      "4     0.45811            2.45176  \n",
      "\n",
      "DataFrame with First 6 Letters:\n",
      "       Country          Region  Happiness Rank  Happiness Score  \\\n",
      "0  Switzerland  Western Europe               1            7.587   \n",
      "1      Iceland  Western Europe               2            7.561   \n",
      "2      Denmark  Western Europe               3            7.527   \n",
      "3       Norway  Western Europe               4            7.522   \n",
      "4       Canada   North America               5            7.427   \n",
      "\n",
      "   Standard Error  Economy (GDP per Capita)   Family  \\\n",
      "0         0.03411                   1.39651  1.34951   \n",
      "1         0.04884                   1.30232  1.40223   \n",
      "2         0.03328                   1.32548  1.36058   \n",
      "3         0.03880                   1.45900  1.33095   \n",
      "4         0.03553                   1.32629  1.32261   \n",
      "\n",
      "   Health (Life Expectancy)  Freedom  Trust (Government Corruption)  \\\n",
      "0                   0.94143  0.66557                        0.41978   \n",
      "1                   0.94784  0.62877                        0.14145   \n",
      "2                   0.87464  0.64938                        0.48357   \n",
      "3                   0.88521  0.66973                        0.36503   \n",
      "4                   0.90563  0.63297                        0.32957   \n",
      "\n",
      "   Generosity  Dystopia Residual first_six_letters  \n",
      "0     0.29678            2.51738            Switze  \n",
      "1     0.43630            2.70201            Icelan  \n",
      "2     0.34139            2.49204            Denmar  \n",
      "3     0.34699            2.46531            Norway  \n",
      "4     0.45811            2.45176            Canada  \n"
     ]
    }
   ],
   "source": [
    "# Use the github link below to read the data and create a dataframe.\n",
    "# After creating the dataframe extract the first 6 letters of each country and store in the dataframe under a new column called first_five_letter\n",
    "\n",
    "# URL of the GitHub file\n",
    "url = 'https://raw.githubusercontent.com/dsrscientist/DSData/master/happiness_score_dataset.csv'\n",
    "\n",
    "# Read the CSV data from the URL into a DataFrame\n",
    "df = pd.read_csv(url)\n",
    "\n",
    "# Display the first few rows of the DataFrame to understand its structure\n",
    "print(\"Initial DataFrame:\")\n",
    "print(df.head())\n",
    "\n",
    "# Extract the first 6 letters of each country and store them in a new column\n",
    "# Assuming the column name with country names is 'Country'\n",
    "df['first_six_letters'] = df['Country'].apply(lambda x: x[:6])\n",
    "\n",
    "# Display the DataFrame with the new column\n",
    "print(\"\\nDataFrame with First 6 Letters:\")\n",
    "print(df.head())\n",
    "\n",
    "\n"
   ]
  },
  {
   "cell_type": "code",
   "execution_count": 55,
   "id": "283d9a71-7c50-4a2c-ab92-33f203e8fd26",
   "metadata": {},
   "outputs": [
    {
     "name": "stdout",
     "output_type": "stream",
     "text": [
      "'Valid_String123' is valid: True\n",
      "'Another_Valid123' is valid: True\n",
      "'1234567890' is valid: True\n",
      "'UpperCaseONLY' is valid: True\n",
      "'_leadingUnderscore' is valid: True\n",
      "'trailingUnderscore_' is valid: True\n"
     ]
    }
   ],
   "source": [
    "# Write a Python program to match a string that contains only upper and lowercase letters, numbers, and underscores.\n",
    "import re\n",
    "def is_valid_string(s):\n",
    "    # Regular expression pattern to match the desired string\n",
    "    pattern = r'^[a-zA-Z0-9_]+$'\n",
    "    \n",
    "    # Use re.fullmatch to ensure the entire string conforms to the pattern\n",
    "    if re.fullmatch(pattern, s):\n",
    "        return True\n",
    "    else:\n",
    "        return False\n",
    "\n",
    "# Example \n",
    "test_strings = [\n",
    "    \"Valid_String123\",    # Valid\n",
    "    \"Another_Valid123\",   # Valid\n",
    "    \"1234567890\",         # Valid\n",
    "    \"UpperCaseONLY\",      # Valid\n",
    "    \"_leadingUnderscore\", # Valid\n",
    "    \"trailingUnderscore_\" # Valid\n",
    "]\n",
    "\n",
    "# Check each test string\n",
    "for string in test_strings:\n",
    "    result = is_valid_string(string)\n",
    "    print(f\"'{string}' is valid: {result}\")\n"
   ]
  },
  {
   "cell_type": "code",
   "execution_count": 91,
   "id": "7aab5cc0-3513-4a47-8ae0-e38f82d7cda7",
   "metadata": {},
   "outputs": [
    {
     "name": "stdout",
     "output_type": "stream",
     "text": [
      "'123abc' starts with 123: True\n",
      "'456def' starts with 123: False\n"
     ]
    }
   ],
   "source": [
    "# Write a Python program where a string will start with a specific number. \n",
    "import re\n",
    "def starts_with_number(s, number):\n",
    "    # Create a pattern to match the string starting with the specific number\n",
    "    pattern = rf'^{number}'\n",
    "    \n",
    "    # Use re.match to check if the string starts with the specified number\n",
    "    if re.match(pattern, s):\n",
    "        return True\n",
    "    else:\n",
    "        return False\n",
    "\n",
    "# Example\n",
    "test_strings = [\n",
    "    \"123abc\",      \n",
    "    \"456def\",      \n",
    "]\n",
    "\n",
    "# Specify the number to check\n",
    "number_to_check = \"123\"\n",
    "\n",
    "# Check each test string\n",
    "for string in test_strings:\n",
    "    result = starts_with_number(string, number_to_check)\n",
    "    print(f\"'{string}' starts with {number_to_check}: {result}\")\n"
   ]
  },
  {
   "cell_type": "code",
   "execution_count": 90,
   "id": "fe43c350-3a0e-41be-a8cc-5c5f483959d5",
   "metadata": {},
   "outputs": [
    {
     "name": "stdout",
     "output_type": "stream",
     "text": [
      "Original: 192.168.001.001 -> Cleaned: 192.168.1.1\n",
      "Original: 10.000.0.1 -> Cleaned: 10.0.0.1\n",
      "Original: 172.16.254.001 -> Cleaned: 172.16.254.1\n",
      "Original: 255.255.255.255 -> Cleaned: 255.255.255.255\n",
      "Original: 0.0.0.0 -> Cleaned: 0.0.0.0\n",
      "Original: 001.002.003.004 -> Cleaned: 1.2.3.4\n"
     ]
    }
   ],
   "source": [
    "# Write a Python program to remove leading zeros from an IP address\n",
    "import re\n",
    "\n",
    "def remove_leading_zeros(ip_address):\n",
    "    # Regular expression pattern to match leading zeros in each octet\n",
    "    pattern = r'\\b0+(\\d)'\n",
    "    \n",
    "    # Replace leading zeros with the digit that follows\n",
    "    cleaned_ip = re.sub(pattern, r'\\1', ip_address)\n",
    "    \n",
    "    return cleaned_ip\n",
    "\n",
    "# Example\n",
    "test_ips = [\n",
    "    \"192.168.001.001\",  \n",
    "    \"10.000.0.1\",        \n",
    "    \"172.16.254.001\",   \n",
    "    \"255.255.255.255\",   \n",
    "    \"0.0.0.0\",           \n",
    "    \"001.002.003.004\"\n",
    "]\n",
    "\n",
    "# Process each test IP\n",
    "for ip in test_ips:\n",
    "    result = remove_leading_zeros(ip)\n",
    "    print(f\"Original: {ip} -> Cleaned: {result}\")\n"
   ]
  },
  {
   "cell_type": "code",
   "execution_count": null,
   "id": "453165dd-4082-4ff2-a6ab-7edfec46e448",
   "metadata": {},
   "outputs": [],
   "source": [
    "# Write a regular expression in python to match a date string in the form of Month name followed by day number and year stored in a text file.\n",
    "import re\n",
    "sample_text.txt = On August 15th 1947 that India was declared independent from British colonialism, and the reins of control were handed over to the leaders of the Country.\n",
    "# Define the file name\n",
    "filename = 'sample_text.txt'\n",
    "\n",
    "# Read the content from the text file\n",
    "with open(filename, 'r') as file:\n",
    "    text = file.read()\n",
    "\n",
    "# Define the regular expression pattern for the date\n",
    "pattern = r'\\b(?:January|February|March|April|May|June|July|August|September|October|November|December) \\d{1,2}(?:st|nd|rd|th)? \\d{4}\\b'\n",
    "\n",
    "# Search for the pattern in the text\n",
    "match = re.search(pattern, text)\n",
    "\n",
    "# Extract and print the matched date if found\n",
    "if match:\n",
    "    print(match.group())\n",
    "else:\n",
    "    print(\"No date found.\")\n"
   ]
  },
  {
   "cell_type": "code",
   "execution_count": null,
   "id": "3a0f52e7-7c25-4a70-8e6c-165730963a68",
   "metadata": {},
   "outputs": [],
   "source": [
    "# Write a Python program to search some literals strings in a string. \n",
    "# Define the main string\n",
    "text = \"The quick brown fox jumps over the lazy dog.\"\n",
    "\n",
    "# Define the literals to search for\n",
    "literals = [\"fox\", \"dog\", \"horse\"]\n",
    "\n",
    "# Method 1: Using the 'in' keyword\n",
    "print(\"Method 1: Using 'in' keyword\")\n",
    "for literal in literals:\n",
    "    if literal in text:\n",
    "        print(f\"'{literal}' is found in the text.\")\n",
    "    else:\n",
    "        print(f\"'{literal}' is not found in the text.\")\n",
    "\n",
    "# Method 2: Using str.find()\n",
    "print(\"\\nMethod 2: Using str.find()\")\n",
    "for literal in literals:\n",
    "    position = text.find(literal)\n",
    "    if position != -1:\n",
    "        print(f\"'{literal}' found at position {position}.\")\n",
    "    else:\n",
    "        print(f\"'{literal}' is not found in the text.\")\n",
    "\n",
    "# Method 3: Using str.index()\n",
    "print(\"\\nMethod 3: Using str.index()\")\n",
    "for literal in literals:\n",
    "    try:\n",
    "        position = text.index(literal)\n",
    "        print(f\"'{literal}' found at position {position}.\")\n",
    "    except ValueError:\n",
    "        print(f\"'{literal}' is not found in the text.\")\n",
    "\n",
    "# Method 4: Using str.count()\n",
    "print(\"\\nMethod 4: Using str.count()\")\n",
    "for literal in literals:\n",
    "    count = text.count(literal)\n",
    "    if count > 0:\n",
    "        print(f\"'{literal}' found {count} time(s) in the text.\")\n",
    "    else:\n",
    "        print(f\"'{literal}' is not found in the text.\")\n"
   ]
  },
  {
   "cell_type": "code",
   "execution_count": 14,
   "id": "0e8014e9-9a14-42fc-9acb-c7f47aac9b45",
   "metadata": {},
   "outputs": [
    {
     "name": "stdout",
     "output_type": "stream",
     "text": [
      "'fox' found at positions: [16, 55]\n"
     ]
    }
   ],
   "source": [
    "# Write a Python program to search a literals string in a string and also find the location within the original string where the pattern occurs.\n",
    "def search_literals(text, literals):\n",
    "    \"\"\"\n",
    "    Search for literal strings within a text and find their positions.\n",
    "\n",
    "    Parameters:\n",
    "    text (str): The main string where the literals will be searched.\n",
    "    literals (list): A list of literal strings to search for.\n",
    "\n",
    "    Returns:\n",
    "    dict: A dictionary with literals as keys and lists of positions as values.\n",
    "    \"\"\"\n",
    "    results = {}\n",
    "\n",
    "    for literal in literals:\n",
    "        positions = []\n",
    "        start = 0\n",
    "\n",
    "        while True:\n",
    "            start = text.find(literal, start)\n",
    "            if start == -1:\n",
    "                break\n",
    "            positions.append(start)\n",
    "            start += len(literal)  # Move past the current match\n",
    "\n",
    "        results[literal] = positions\n",
    "\n",
    "    return results\n",
    "\n",
    "# Define the main string\n",
    "text = \"The quick brown fox jumps over the lazy dog. The quick fox is clever.\"\n",
    "\n",
    "# Define the literals to search for\n",
    "literals = [\"fox\"]\n",
    "\n",
    "# Search for literals and get their positions\n",
    "results = search_literals(text, literals)\n",
    "\n",
    "# Print the results\n",
    "for literal, positions in results.items():\n",
    "    if positions:\n",
    "        print(f\"'{literal}' found at positions: {positions}\")\n",
    "    else:\n",
    "        print(f\"'{literal}' is not found in the text.\")\n"
   ]
  },
  {
   "cell_type": "code",
   "execution_count": 23,
   "id": "8dd4a28e-0a79-435a-83e6-217a01e8c551",
   "metadata": {},
   "outputs": [
    {
     "name": "stdout",
     "output_type": "stream",
     "text": [
      "Found \"exercises\"\n",
      "Found \"exercises\"\n",
      "Found \"exercises\"\n"
     ]
    }
   ],
   "source": [
    "# Write a Python program to find the substrings within a string.\n",
    "import re\n",
    "text = 'Python exercises, PHP exercises, C# exercises'\n",
    "pattern = 'exercises'\n",
    "for match in re.findall(pattern, text):\n",
    "    print('Found \"%s\"' % match)\n"
   ]
  },
  {
   "cell_type": "code",
   "execution_count": null,
   "id": "14508f88-b9d8-4884-a2e5-2d5eb3eaaa77",
   "metadata": {},
   "outputs": [],
   "source": [
    "# Write a Python program to find the occurrence and position of the substrings within a string.\n",
    "import re\n",
    "text = 'Python exercises, PHP exercises, C# exercises'\n",
    "pattern = 'exercises'\n",
    "for match in re.finditer(pattern, text):\n",
    "    s = match.start()\n",
    "    e = match.end()\n",
    "    print('Found \"%s\" at %d:%d' % (text[s:e], s, e))\n",
    "\n"
   ]
  },
  {
   "cell_type": "code",
   "execution_count": 25,
   "id": "73891afc-7c81-4e1b-bc4a-6ad3e5a10e41",
   "metadata": {},
   "outputs": [
    {
     "name": "stdout",
     "output_type": "stream",
     "text": [
      "Original date: 2024-08-24\n",
      "Converted date: 24-08-2024\n"
     ]
    }
   ],
   "source": [
    "# Write a Python program to convert a date of yyyy-mm-dd format to dd-mm-yyyy format.\n",
    "def convert_date_format(date_str):\n",
    "    \"\"\"\n",
    "    Convert a date from 'yyyy-mm-dd' format to 'dd-mm-yyyy' format.\n",
    "\n",
    "    Parameters:\n",
    "    date_str (str): The date in 'yyyy-mm-dd' format.\n",
    "\n",
    "    Returns:\n",
    "    str: The date in 'dd-mm-yyyy' format.\n",
    "    \"\"\"\n",
    "    try:\n",
    "        # Split the date string into components\n",
    "        year, month, day = date_str.split('-')\n",
    "        \n",
    "        # Format the date in 'dd-mm-yyyy' format\n",
    "        converted_date = f\"{day}-{month}-{year}\"\n",
    "        \n",
    "        return converted_date\n",
    "    except ValueError:\n",
    "        return \"Invalid date format. Please use 'yyyy-mm-dd'.\"\n",
    "\n",
    "# Example\n",
    "date_str = '2024-08-24'\n",
    "converted_date = convert_date_format(date_str)\n",
    "print(f\"Original date: {date_str}\")\n",
    "print(f\"Converted date: {converted_date}\")\n"
   ]
  },
  {
   "cell_type": "code",
   "execution_count": 33,
   "id": "bf956696-2769-4be5-a725-f16c0afbccd3",
   "metadata": {},
   "outputs": [
    {
     "name": "stdout",
     "output_type": "stream",
     "text": [
      "Decimal numbers with 1 or 2 decimal places found in the text:\n",
      "01.12\n",
      "145.8\n",
      "3.01\n",
      "27.25\n",
      "0.25\n"
     ]
    }
   ],
   "source": [
    "#Create a function in python to find all decimal numbers with a precision of 1 or 2 in a string. The use of the re.compile() method is mandatory.\n",
    "import re\n",
    "def find_decimal_numbers(text):\n",
    "    \"\"\"\n",
    "    Find all decimal numbers with a precision of 1 or 2 decimal places in the given text.\n",
    "\n",
    "    Parameters:\n",
    "    text (str): The input string containing decimal numbers.\n",
    "\n",
    "    Returns:\n",
    "    list: A list of decimal numbers with 1 or 2 decimal places.\n",
    "    \"\"\"\n",
    "    # Compile a regular expression pattern to match decimal numbers with 1 or 2 decimal places\n",
    "    pattern = re.compile(r'\\b\\d+\\.\\d{1,2}\\b')\n",
    "\n",
    "    # Find all matches in the text\n",
    "    matches = pattern.findall(text)\n",
    "    \n",
    "    return matches\n",
    "\n",
    "# Example usage\n",
    "text = \"01.12 0132.123 2.31875 145.8 3.01 27.25 0.25\"\n",
    "decimal_numbers = find_decimal_numbers(text)\n",
    "print(\"Decimal numbers with 1 or 2 decimal places found in the text:\")\n",
    "for number in decimal_numbers:\n",
    "    print(number)\n"
   ]
  },
  {
   "cell_type": "code",
   "execution_count": 34,
   "id": "d1d0c318-1adc-454e-8efa-d804ebb7c1ba",
   "metadata": {},
   "outputs": [
    {
     "name": "stdout",
     "output_type": "stream",
     "text": [
      "Number: 123, Position: 20\n",
      "Number: 45678, Position: 44\n"
     ]
    }
   ],
   "source": [
    "# Write a Python program to separate and print the numbers and their position of a given string.\n",
    "import re\n",
    "def extract_numbers_positions(s):\n",
    "    # Find all numbers in the string along with their start positions\n",
    "    numbers_positions = [(match.group(), match.start()) for match in re.finditer(r'\\d+', s)]\n",
    "    \n",
    "    return numbers_positions\n",
    "\n",
    "def main():\n",
    "    # Example input string\n",
    "    input_string = \"The house number is 123 and the zip code is 45678.\"\n",
    "    \n",
    "    # Extract numbers and their positions\n",
    "    numbers_positions = extract_numbers_positions(input_string)\n",
    "    \n",
    "    # Print each number and its position\n",
    "    for number, position in numbers_positions:\n",
    "        print(f\"Number: {number}, Position: {position}\")\n",
    "\n",
    "if __name__ == \"__main__\":\n",
    "    main()\n"
   ]
  },
  {
   "cell_type": "code",
   "execution_count": 37,
   "id": "b81e56e2-1260-421b-a4a7-a84c5315aeea",
   "metadata": {},
   "outputs": [
    {
     "name": "stdout",
     "output_type": "stream",
     "text": [
      "The largest numeric value is: 950\n"
     ]
    }
   ],
   "source": [
    "# Write a regular expression in python program to extract maximum/largest numeric value from a string.\n",
    "import re\n",
    "def extract_max_numeric_value(s):\n",
    "    # Find all numeric values in the string\n",
    "    numbers = re.findall(r'\\d+', s)  # This will find all sequences of digits\n",
    "    \n",
    "    if not numbers:\n",
    "        return None  # Return None if no numbers are found\n",
    "    \n",
    "    # Convert all found numbers to integers\n",
    "    numbers = [int(num) for num in numbers]\n",
    "    \n",
    "    # Find the maximum number\n",
    "    max_value = max(numbers)\n",
    "    \n",
    "    return max_value\n",
    "\n",
    "def main():\n",
    "    # Example input string\n",
    "    input_string = \"'My marks in each semester are: 947, 896, 926, 524, 734, 950, 642'\"\n",
    "    \n",
    "    # Extract the maximum numeric value\n",
    "    max_value = extract_max_numeric_value(input_string)\n",
    "    \n",
    "    if max_value is not None:\n",
    "        print(f\"The largest numeric value is: {max_value}\")\n",
    "    else:\n",
    "        print(\"No numeric values found in the string.\")\n",
    "\n",
    "if __name__ == \"__main__\":\n",
    "    main()\n"
   ]
  },
  {
   "cell_type": "code",
   "execution_count": 39,
   "id": "e01a1bca-8fd0-42d5-b857-0a6db60e732e",
   "metadata": {},
   "outputs": [
    {
     "name": "stdout",
     "output_type": "stream",
     "text": [
      "Original String: RegularExpressionIsAnImportantTopicInPython\n",
      "String with Spaces: Regular Expression Is An Important Topic In Python\n"
     ]
    }
   ],
   "source": [
    "# Create a function in python to insert spaces between words starting with capital letters.\n",
    "import re\n",
    "def insert_spaces_between_capitals(s):\n",
    "    # Use regular expression to find positions where spaces should be inserted\n",
    "    # Look for uppercase letters that are preceded by lowercase letters\n",
    "    spaced_string = re.sub(r'(?<=[a-z])(?=[A-Z])', ' ', s)\n",
    "    \n",
    "    return spaced_string\n",
    "\n",
    "def main():\n",
    "    # Example input string\n",
    "    input_string = \"RegularExpressionIsAnImportantTopicInPython\"\n",
    "    \n",
    "    # Insert spaces between capital letters\n",
    "    spaced_string = insert_spaces_between_capitals(input_string)\n",
    "    \n",
    "    print(\"Original String:\", input_string)\n",
    "    print(\"String with Spaces:\", spaced_string)\n",
    "\n",
    "if __name__ == \"__main__\":\n",
    "    main()\n"
   ]
  },
  {
   "cell_type": "code",
   "execution_count": 41,
   "id": "cc34403b-4cdb-4472-9c72-c2adfc384e01",
   "metadata": {},
   "outputs": [
    {
     "name": "stdout",
     "output_type": "stream",
     "text": [
      "Matches found: ['Abhishek', 'Cats', 'Cricket']\n"
     ]
    }
   ],
   "source": [
    "# Python regex to find sequences of one upper case letter followed by lower case letters.\n",
    "import re\n",
    "def find_upper_followed_by_lower(s):\n",
    "    # Define the regex pattern\n",
    "    pattern = r'\\b[A-Z][a-z]+\\b'\n",
    "    \n",
    "    # Find all matches in the string\n",
    "    matches = re.findall(pattern, s)\n",
    "    \n",
    "    return matches\n",
    "\n",
    "def main():\n",
    "    # Example input string\n",
    "    input_string = \"I am Abhishek , i LOVE dogs and Cats, i HAVE paly Cricket.\"\n",
    "    \n",
    "    # Find sequences of one uppercase letter followed by lowercase letters\n",
    "    matches = find_upper_followed_by_lower(input_string)\n",
    "    \n",
    "    print(\"Matches found:\", matches)\n",
    "\n",
    "if __name__ == \"__main__\":\n",
    "    main()\n"
   ]
  },
  {
   "cell_type": "code",
   "execution_count": 43,
   "id": "c0f405f2-fc10-418c-bee4-fc1ad779dd3b",
   "metadata": {},
   "outputs": [
    {
     "name": "stdout",
     "output_type": "stream",
     "text": [
      "Hello world\n"
     ]
    }
   ],
   "source": [
    "# Write a Python program to remove continuous duplicate words from Sentence using Regular Expression.\n",
    "import re\n",
    "def remove_duplicates(sentence):\n",
    "    # Regular expression to match continuous duplicate words\n",
    "    pattern = r'\\b(\\w+)(?:\\s+\\1\\b)+'\n",
    "    # Substitute the matched pattern with a single occurrence of the word\n",
    "    result = re.sub(pattern, r'\\1', sentence, flags=re.IGNORECASE)\n",
    "    return result\n",
    "\n",
    "# Example \n",
    "sentence = \"Hello hello world world\"\n",
    "print(remove_duplicates(sentence))  \n"
   ]
  },
  {
   "cell_type": "code",
   "execution_count": 48,
   "id": "7723f686-cb09-4e81-b5ee-1f09a03e2430",
   "metadata": {},
   "outputs": [
    {
     "name": "stdout",
     "output_type": "stream",
     "text": [
      "true\n",
      "flase\n"
     ]
    }
   ],
   "source": [
    "# Write a python program using RegEx to accept string ending with alphanumeric character.\n",
    "import re\n",
    "def check_string(string):\n",
    "    # Regular expression to match a string ending with an alphanumeric character\n",
    "    regex = r'[a-zA-Z0-9]$'\n",
    "    \n",
    "    # Search for the pattern in the string\n",
    "    if re.search(regex, string):\n",
    "        print(\"true\")\n",
    "    else:\n",
    "        print(\"flase\")\n",
    "\n",
    "# Example\n",
    "check_string(\"Hello123\")\n",
    "check_string(\"Abhishek@\")        \n"
   ]
  },
  {
   "cell_type": "code",
   "execution_count": 53,
   "id": "0fb51b63-606b-48b6-bf80-e8bb2ce7db07",
   "metadata": {},
   "outputs": [
    {
     "name": "stdout",
     "output_type": "stream",
     "text": [
      "Hashtags in text1: ['#Doltiwal', '#xyzabc', '#Demonetization']\n"
     ]
    }
   ],
   "source": [
    "# Write a python program using RegEx to extract the hashtags.\n",
    "import re\n",
    "def extract_hashtags(text):\n",
    "    # Regular expression to find hashtags\n",
    "    regex = r'#\\w+'\n",
    "    \n",
    "    # Find all hashtags in the text\n",
    "    hashtags = re.findall(regex, text)\n",
    "    \n",
    "    return hashtags\n",
    "\n",
    "# Example\n",
    "text1 =\"\"\"RT @kapil_kausik: #Doltiwal I mean #xyzabc is \"hurt\" by #Demonetization as the same has rendered USELESS <ed><U+00A0><U+00BD><ed><U+00B1><U+0089> \"acquired funds\" No wo\"\"\"\n",
    "print(\"Hashtags in text1:\", extract_hashtags(text1))\n",
    "\n"
   ]
  },
  {
   "cell_type": "code",
   "execution_count": 56,
   "id": "cdd6d25e-e03d-44ae-be71-db82aa4c6f1e",
   "metadata": {},
   "outputs": [
    {
     "name": "stdout",
     "output_type": "stream",
     "text": [
      "Cleaned text: @Jags123456 Bharat band on 28??<ed><ed>Those who  are protesting #demonetization  are all different party leaders\n"
     ]
    }
   ],
   "source": [
    "# Write a python program using RegEx to remove <U+..> like symbols\n",
    " # Check the below sample text, there are strange symbols something of the sort <U+..> all over the place. You need to come up with a general Regex expression that will cover all such symbols.\n",
    "\n",
    "import re\n",
    "def remove_unicode_symbols(text):\n",
    "    # Regular expression pattern to match <U+....> symbols\n",
    "    pattern = r'<U\\+[0-9A-Fa-f]+>'\n",
    "    \n",
    "    # Replace the matched patterns with an empty string\n",
    "    cleaned_text = re.sub(pattern, '', text)\n",
    "    \n",
    "    return cleaned_text\n",
    "\n",
    "# Example\n",
    "if __name__ == \"__main__\":\n",
    "    sample_text = \"@Jags123456 Bharat band on 28??<ed><U+00A0><U+00BD><ed><U+00B8><U+0082>Those who  are protesting #demonetization  are all different party leaders\"\n",
    "    cleaned_text = remove_unicode_symbols(sample_text)\n",
    "    print(\"Cleaned text:\", cleaned_text)\n"
   ]
  },
  {
   "cell_type": "code",
   "execution_count": null,
   "id": "4a5cbb12-ccb7-494b-8e93-57f3ee6a81e0",
   "metadata": {},
   "outputs": [],
   "source": [
    "# Write a python program to extract dates from the text stored in the text file.\n",
    "import re\n",
    "sample_text = 'Ron was born on 12-09-1992 and he was admitted to school 15-12-1999.'\n",
    "filename = 'sample_text'\n",
    "def extract_dates(filename):\n",
    "    # Regular expression to find dates in the format DD/MM/YYYY or DD-MM-YYYY\n",
    "    regex = r'\\b\\d{2}[/-]\\d{2}[/-]\\d{4}\\b'\n",
    "    \n",
    "    with open(filename, 'r') as file:\n",
    "        content = file.read()\n",
    "        \n",
    "    # Find all dates in the content\n",
    "    dates = re.findall(regex, content)\n",
    "    \n",
    "    return dates\n",
    "\n",
    "# Example\n",
    "filename = \"sample_text\"\n",
    "dates = extract_dates(filename)\n",
    "print(\"Extracted dates:\", dates)\n"
   ]
  },
  {
   "cell_type": "code",
   "execution_count": 88,
   "id": "bd744a44-0e6d-40dc-8067-bab68136c022",
   "metadata": {},
   "outputs": [
    {
     "name": "stdout",
     "output_type": "stream",
     "text": [
      "Original text: The following example creates an ArrayList with a capacity of 50 elements. 4 elements are then added to the ArrayList and the ArrayList is trimmed accordingly.\n",
      "Cleaned text: following example creates ArrayList a capacity 50 elements. 4 elements added ArrayList ArrayList trimmed accordingly.\n"
     ]
    }
   ],
   "source": [
    "# Create a function in python to remove all words from a string of length between 2 and 4.\n",
    "import re\n",
    "def remove_short_words(text):\n",
    "    # Regular expression pattern to match words of length between 2 and 4\n",
    "    pattern = r'\\b[a-zA-Z]{2,4}\\b'\n",
    "    \n",
    "    # Replace the matched words with an empty string\n",
    "    cleaned_text = re.sub(pattern, '', text)\n",
    "    \n",
    "    # Remove extra spaces that may have been left after removal\n",
    "    cleaned_text = re.sub(r'\\s+', ' ', cleaned_text).strip()\n",
    "    \n",
    "    return cleaned_text\n",
    "\n",
    "# Example\n",
    "if __name__ == \"__main__\":\n",
    "    sample_text = \"The following example creates an ArrayList with a capacity of 50 elements. 4 elements are then added to the ArrayList and the ArrayList is trimmed accordingly.\"\n",
    "    cleaned_text = remove_short_words(sample_text)\n",
    "    print(\"Original text:\", sample_text)\n",
    "    print(\"Cleaned text:\", cleaned_text)\n"
   ]
  },
  {
   "cell_type": "code",
   "execution_count": null,
   "id": "532c5e99-0d99-428d-b7f7-127c1192935b",
   "metadata": {},
   "outputs": [],
   "source": []
  }
 ],
 "metadata": {
  "kernelspec": {
   "display_name": "Python 3 (ipykernel)",
   "language": "python",
   "name": "python3"
  },
  "language_info": {
   "codemirror_mode": {
    "name": "ipython",
    "version": 3
   },
   "file_extension": ".py",
   "mimetype": "text/x-python",
   "name": "python",
   "nbconvert_exporter": "python",
   "pygments_lexer": "ipython3",
   "version": "3.11.7"
  }
 },
 "nbformat": 4,
 "nbformat_minor": 5
}
